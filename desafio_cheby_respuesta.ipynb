{
 "cells": [
  {
   "cell_type": "markdown",
   "metadata": {},
   "source": [
    "<img src=\"./logo_UTN.svg\" align=\"right\" width=\"150\" /> \n",
    "#### Teoría de Circuitos II\n",
    "\n",
    "# Problema desafío\n",
    "\n"
   ]
  },
  {
   "cell_type": "markdown",
   "metadata": {},
   "source": [
    "Se pide diseñar un filtro pasabajo que satisfaga la siguiente plantilla:\n",
    "\n",
    " * $\\omega_p  = 500$ Hz\n",
    " * $\\omega_s  = 1500$ Hz\n",
    " * $\\alpha_{max}  = 1$ dB\n",
    " * $\\alpha_{min}  = 18$ dB\n",
    "\n",
    "a) Determine si el siguiente diseño puede realizarse con una sola sección de segundo orden cuya respuesta de módulo es de **máxima planicidad**.\n",
    "\n"
   ]
  },
  {
   "cell_type": "markdown",
   "metadata": {},
   "source": [
    "b) Si el mismo diseño se planteara mediante una aproximación **Chebyshev**, se pide:\n",
    " \n",
    "   * la función transferencia normalizada\n",
    "   * las respuestas de módulo, fase y la localización de polos y ceros\n"
   ]
  },
  {
   "cell_type": "markdown",
   "metadata": {},
   "source": [
    "![](A1.jpeg)"
   ]
  },
  {
   "cell_type": "code",
   "execution_count": null,
   "metadata": {},
   "outputs": [],
   "source": [
    "%lsmagic"
   ]
  },
  {
   "cell_type": "code",
   "execution_count": null,
   "metadata": {},
   "outputs": [],
   "source": [
    "%timeit\n",
    "from sympy import *\n",
    "import math as m\n",
    "import time, sys\n",
    "\n",
    "S = symbols('S')\n",
    "\n",
    "w_p = 1\n",
    "w_s = 3\n",
    "alpha_max = 1\n",
    "alpha_min = 18\n",
    "\n",
    "epsilon_chevy = m.sqrt(m.pow(10, 0.1 * alpha_max) - 1)\n",
    "print(\"epsilon_chevy=\", epsilon_chevy)\n",
    "\n",
    "N_chevy = m.acosh((m.pow(10, alpha_min * 0.1) - 1) / (m.pow(10, alpha_max * 0.1) - 1)) / (2 * m.acosh(w_s))\n",
    "\n",
    "print(\"N_chevy=\", N_chevy)\n",
    "Redondeado=m.ceil(N_chevy)\n",
    "print(\"Redondeado=\" ,Redondeado )\n",
    "a=(1/N_chevy)*(asinh(1/epsilon_chevy))\n",
    "print(\"a=\", a)\n",
    "\n",
    "\n",
    "for i in range(Redondeado):\n",
    "    Sk=( -sinh(a)*sin((2*i-1)/(2*Redondeado)*3.1415)+I*cosh(a)*cos((2*i-1)/(2*Redondeado)*3.1415) )\n",
    "    print(Sk)\n",
    "    time.sleep(0.5)\n",
    "    \n",
    "print(expand( ((S-(-0.64273+I*0.9556)) * (S-(-0.64273-I*0.9556)) ) ))\n",
    "\n",
    "print(\"Complete\")"
   ]
  },
  {
   "cell_type": "code",
   "execution_count": null,
   "metadata": {},
   "outputs": [],
   "source": [
    "from scipy import signal\n",
    "import matplotlib.pyplot as plt\n",
    "\n",
    "plt.rcParams[\"figure.figsize\"] = (20,10)\n",
    "\n",
    "from splane import pzmap, grpDelay, bodePlot\n",
    "\n",
    "\"\"\"\n",
    "num1=[0,0,0,0,0,1]\n",
    "den1 = [1,1.73382,1.998775]\n",
    "\"\"\"\n",
    "num1=[1]\n",
    "den1=[1,1.28546, 1.3262]\n",
    "sys1=signal.TransferFunction(num1, den1)\n",
    "\n",
    "bodePlot(sys1)\n",
    "\n",
    "pzmap(sys1)\n",
    "\n",
    "grpDelay(sys1);"
   ]
  },
  {
   "cell_type": "markdown",
   "metadata": {},
   "source": [
    "<div class=\"alert alert-block alert-success\">\n",
    "<b>Ayuda:</b> Puede simular la función transferencia normalizada con el siguiente script. Solo hace falta que cambies algunos parámetros.\n",
    "</div>"
   ]
  },
  {
   "cell_type": "code",
   "execution_count": null,
   "metadata": {},
   "outputs": [],
   "source": [
    "# Módulos para Jupyter\n",
    "\n",
    "import numpy as np\n",
    "import matplotlib as mpl\n",
    "from matplotlib import pyplot as plt\n",
    "#%%  Inicialización de librerías\n",
    "# Setup inline graphics: Esto lo hacemos para que el tamaño de la salida, \n",
    "# sea un poco más adecuada al tamaño del documento\n",
    "mpl.rcParams['figure.figsize'] = (10,10)\n",
    "\n",
    "#%% Esto tiene que ver con cuestiones de presentación de los gráficos,\n",
    "# NO ES IMPORTANTE\n",
    "fig_sz_x = 14\n",
    "fig_sz_y = 13\n",
    "fig_dpi = 80 # dpi\n",
    "\n",
    "fig_font_family = 'Ubuntu'\n",
    "fig_font_size = 16\n",
    "\n",
    "plt.rcParams.update({'font.size':fig_font_size})\n",
    "plt.rcParams.update({'font.family':fig_font_family})\n",
    "\n",
    "# módulo de SciPy\n",
    "from scipy import signal as sig\n",
    "\n",
    "\n",
    "# un módulo adaptado a mis necesidades\n",
    "from splane import bodePlot, pzmap\n",
    "        \n",
    "# Definimos los parámetros de la transferencia:\n",
    "\n",
    "# O bien en términos de los parámetros w0 y Q\n",
    "\n",
    "w0 = 1\n",
    "Q = 5\n",
    "\n",
    "# Cargamos la funcion transferencia\n",
    "\n",
    "num = np.array([ w0**2 ])\n",
    "den = np.array([ 1., w0 / Q, w0**2 ])\n",
    "\n",
    "######################################################\n",
    "# O podría ser en mediante los coeficientes del\n",
    "# numerador y denominador\n",
    "\n",
    "#num = np.array([ 1. ])\n",
    "#den = np.array([ 1., 0.5, 1.0 ])\n",
    "\n",
    "######################################################\n",
    "\n",
    "\n",
    "H = sig.TransferFunction( num, den )\n",
    "\n",
    "# Graficamos el diagrama de polos y ceros\n",
    "# Graficamos la respuesta en frecuencia para el modulo y la fase.\n",
    "\n",
    "_, axes_hdl = bodePlot(H)\n",
    "\n",
    "# para que se vea como uno intuye el módulo. Probar comentar las siguientes 2 líneas\n",
    "plt.sca(axes_hdl[0])\n",
    "#plt.ylim([-1,1])\n",
    "\n",
    "plt.gca\n",
    "\n",
    "pzmap(H)\n",
    "\n",
    "plt.show()\n"
   ]
  },
  {
   "attachments": {
    "ACKMOSS.png": {
     "image/png": "[encoded data removed]"
    }
   },
   "cell_type": "markdown",
   "metadata": {},
   "source": [
    " c) Implemente el filtro solicitado mediante la siguiente red y corrobore su funcionamiento respecto a la plantilla de requerimientos.\n",
    "  \n",
    " ![ACKMOSS.png](attachment:ACKMOSS.png)\n",
    "\n",
    " "
   ]
  },
  {
   "cell_type": "code",
   "execution_count": null,
   "metadata": {},
   "outputs": [],
   "source": []
  },
  {
   "cell_type": "markdown",
   "metadata": {},
   "source": [
    "<div class=\"alert alert-block alert-success\">\n",
    "<b>Ayuda:</b> Puede encontrar un análisis pormenorizado de esta estructura en el libro de Schaumann.\n",
    "</div>"
   ]
  },
  {
   "cell_type": "markdown",
   "metadata": {},
   "source": [
    "<div class=\"alert alert-block alert-danger\">\n",
    "<img src=\"./ojo.svg\" align=\"left\" width=\"50\" /> Incluya capturas de:\n",
    "<ul>\n",
    "<li>la red simulada</li>\n",
    "<li>al menos 2 detalles de la respuesta de módulo donde contrasta mediante cursores el correcto desempeño del filtro</li>\n",
    "</ul> \n",
    "</div>"
   ]
  },
  {
   "cell_type": "markdown",
   "metadata": {},
   "source": [
    "# Una vez terminado ...\n",
    "Una vez que hayas termiando con la confección del documento, podemos utilizar una ventaja muy importante de este tipo de documentos que es la posibilidad de compartirlos *online* mediante la [página de nbviewer](http://nbviewer.jupyter.org/). Para ello es necesario que tu notebook y todos los recursos asociados estén alojados en un repositorio público tuyo de [Github](https://github.com/). Como ejemplo, podés ver este mismo documento disponible [online en mi github](https://nbviewer.jupyter.org/github/marianux/jupytest/blob/master/desafio_cheby.ipynb) y [proyectado con nbviewer](https://github.com/marianux/jupytest/blob/master/desafio_cheby.ipynb). Yo prefiero usar la última opción, pero para gustos los colores ;)"
   ]
  }
 ],
 "metadata": {
  "kernelspec": {
   "display_name": "Python 3",
   "language": "python",
   "name": "python3"
  },
  "language_info": {
   "codemirror_mode": {
    "name": "ipython",
    "version": 3
   },
   "file_extension": ".py",
   "mimetype": "text/x-python",
   "name": "python",
   "nbconvert_exporter": "python",
   "pygments_lexer": "ipython3",
   "version": "3.7.6"
  }
 },
 "nbformat": 4,
 "nbformat_minor": 2
}
